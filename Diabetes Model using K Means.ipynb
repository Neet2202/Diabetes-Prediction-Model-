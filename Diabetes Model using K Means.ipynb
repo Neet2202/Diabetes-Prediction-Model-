{
 "cells": [
  {
   "cell_type": "markdown",
   "metadata": {},
   "source": [
    "# Program 7(b): K-Means"
   ]
  },
  {
   "cell_type": "code",
   "execution_count": 1,
   "metadata": {},
   "outputs": [],
   "source": [
    "import numpy as np\n",
    "import matplotlib.pyplot as plt\n",
    "import pandas as pd \n",
    "import sklearn"
   ]
  },
  {
   "cell_type": "code",
   "execution_count": 2,
   "metadata": {},
   "outputs": [
    {
     "data": {
      "text/html": [
       "<div>\n",
       "<style scoped>\n",
       "    .dataframe tbody tr th:only-of-type {\n",
       "        vertical-align: middle;\n",
       "    }\n",
       "\n",
       "    .dataframe tbody tr th {\n",
       "        vertical-align: top;\n",
       "    }\n",
       "\n",
       "    .dataframe thead th {\n",
       "        text-align: right;\n",
       "    }\n",
       "</style>\n",
       "<table border=\"1\" class=\"dataframe\">\n",
       "  <thead>\n",
       "    <tr style=\"text-align: right;\">\n",
       "      <th></th>\n",
       "      <th>Pregnancies</th>\n",
       "      <th>Glucose</th>\n",
       "      <th>BloodPressure</th>\n",
       "      <th>SkinThickness</th>\n",
       "      <th>Insulin</th>\n",
       "      <th>BMI</th>\n",
       "      <th>DiabetesPedigreeFunction</th>\n",
       "      <th>Age</th>\n",
       "      <th>Outcome</th>\n",
       "    </tr>\n",
       "  </thead>\n",
       "  <tbody>\n",
       "    <tr>\n",
       "      <th>0</th>\n",
       "      <td>6</td>\n",
       "      <td>148</td>\n",
       "      <td>72</td>\n",
       "      <td>35</td>\n",
       "      <td>0</td>\n",
       "      <td>33.6</td>\n",
       "      <td>0.627</td>\n",
       "      <td>50</td>\n",
       "      <td>1</td>\n",
       "    </tr>\n",
       "    <tr>\n",
       "      <th>1</th>\n",
       "      <td>1</td>\n",
       "      <td>85</td>\n",
       "      <td>66</td>\n",
       "      <td>29</td>\n",
       "      <td>0</td>\n",
       "      <td>26.6</td>\n",
       "      <td>0.351</td>\n",
       "      <td>31</td>\n",
       "      <td>0</td>\n",
       "    </tr>\n",
       "    <tr>\n",
       "      <th>2</th>\n",
       "      <td>8</td>\n",
       "      <td>183</td>\n",
       "      <td>64</td>\n",
       "      <td>0</td>\n",
       "      <td>0</td>\n",
       "      <td>23.3</td>\n",
       "      <td>0.672</td>\n",
       "      <td>32</td>\n",
       "      <td>1</td>\n",
       "    </tr>\n",
       "    <tr>\n",
       "      <th>3</th>\n",
       "      <td>1</td>\n",
       "      <td>89</td>\n",
       "      <td>66</td>\n",
       "      <td>23</td>\n",
       "      <td>94</td>\n",
       "      <td>28.1</td>\n",
       "      <td>0.167</td>\n",
       "      <td>21</td>\n",
       "      <td>0</td>\n",
       "    </tr>\n",
       "    <tr>\n",
       "      <th>4</th>\n",
       "      <td>0</td>\n",
       "      <td>137</td>\n",
       "      <td>40</td>\n",
       "      <td>35</td>\n",
       "      <td>168</td>\n",
       "      <td>43.1</td>\n",
       "      <td>2.288</td>\n",
       "      <td>33</td>\n",
       "      <td>1</td>\n",
       "    </tr>\n",
       "    <tr>\n",
       "      <th>...</th>\n",
       "      <td>...</td>\n",
       "      <td>...</td>\n",
       "      <td>...</td>\n",
       "      <td>...</td>\n",
       "      <td>...</td>\n",
       "      <td>...</td>\n",
       "      <td>...</td>\n",
       "      <td>...</td>\n",
       "      <td>...</td>\n",
       "    </tr>\n",
       "    <tr>\n",
       "      <th>763</th>\n",
       "      <td>10</td>\n",
       "      <td>101</td>\n",
       "      <td>76</td>\n",
       "      <td>48</td>\n",
       "      <td>180</td>\n",
       "      <td>32.9</td>\n",
       "      <td>0.171</td>\n",
       "      <td>63</td>\n",
       "      <td>0</td>\n",
       "    </tr>\n",
       "    <tr>\n",
       "      <th>764</th>\n",
       "      <td>2</td>\n",
       "      <td>122</td>\n",
       "      <td>70</td>\n",
       "      <td>27</td>\n",
       "      <td>0</td>\n",
       "      <td>36.8</td>\n",
       "      <td>0.340</td>\n",
       "      <td>27</td>\n",
       "      <td>0</td>\n",
       "    </tr>\n",
       "    <tr>\n",
       "      <th>765</th>\n",
       "      <td>5</td>\n",
       "      <td>121</td>\n",
       "      <td>72</td>\n",
       "      <td>23</td>\n",
       "      <td>112</td>\n",
       "      <td>26.2</td>\n",
       "      <td>0.245</td>\n",
       "      <td>30</td>\n",
       "      <td>0</td>\n",
       "    </tr>\n",
       "    <tr>\n",
       "      <th>766</th>\n",
       "      <td>1</td>\n",
       "      <td>126</td>\n",
       "      <td>60</td>\n",
       "      <td>0</td>\n",
       "      <td>0</td>\n",
       "      <td>30.1</td>\n",
       "      <td>0.349</td>\n",
       "      <td>47</td>\n",
       "      <td>1</td>\n",
       "    </tr>\n",
       "    <tr>\n",
       "      <th>767</th>\n",
       "      <td>1</td>\n",
       "      <td>93</td>\n",
       "      <td>70</td>\n",
       "      <td>31</td>\n",
       "      <td>0</td>\n",
       "      <td>30.4</td>\n",
       "      <td>0.315</td>\n",
       "      <td>23</td>\n",
       "      <td>0</td>\n",
       "    </tr>\n",
       "  </tbody>\n",
       "</table>\n",
       "<p>768 rows × 9 columns</p>\n",
       "</div>"
      ],
      "text/plain": [
       "     Pregnancies  Glucose  BloodPressure  SkinThickness  Insulin   BMI  \\\n",
       "0              6      148             72             35        0  33.6   \n",
       "1              1       85             66             29        0  26.6   \n",
       "2              8      183             64              0        0  23.3   \n",
       "3              1       89             66             23       94  28.1   \n",
       "4              0      137             40             35      168  43.1   \n",
       "..           ...      ...            ...            ...      ...   ...   \n",
       "763           10      101             76             48      180  32.9   \n",
       "764            2      122             70             27        0  36.8   \n",
       "765            5      121             72             23      112  26.2   \n",
       "766            1      126             60              0        0  30.1   \n",
       "767            1       93             70             31        0  30.4   \n",
       "\n",
       "     DiabetesPedigreeFunction  Age  Outcome  \n",
       "0                       0.627   50        1  \n",
       "1                       0.351   31        0  \n",
       "2                       0.672   32        1  \n",
       "3                       0.167   21        0  \n",
       "4                       2.288   33        1  \n",
       "..                        ...  ...      ...  \n",
       "763                     0.171   63        0  \n",
       "764                     0.340   27        0  \n",
       "765                     0.245   30        0  \n",
       "766                     0.349   47        1  \n",
       "767                     0.315   23        0  \n",
       "\n",
       "[768 rows x 9 columns]"
      ]
     },
     "execution_count": 2,
     "metadata": {},
     "output_type": "execute_result"
    }
   ],
   "source": [
    "df = pd.read_csv(r\"C:\\Users\\HP\\Downloads\\diabetes.csv\")\n",
    "df"
   ]
  },
  {
   "cell_type": "code",
   "execution_count": 3,
   "metadata": {},
   "outputs": [],
   "source": [
    "#replace zero values with mean\n",
    "df['Glucose']=df['Glucose'].replace(0,df['Glucose'].mean())\n",
    "df['BloodPressure']=df['BloodPressure'].replace(0,df['BloodPressure'].mean())\n",
    "df['SkinThickness']=df['SkinThickness'].replace(0,df['SkinThickness'].mean())\n",
    "df['Insulin']=df['Insulin'].replace(0,df['Insulin'].mean())\n",
    "df['BMI']=df['BMI'].replace(0,df['BMI'].mean())"
   ]
  },
  {
   "cell_type": "code",
   "execution_count": 4,
   "metadata": {},
   "outputs": [],
   "source": [
    "X = df.iloc[:, [2, 5]].values"
   ]
  },
  {
   "cell_type": "code",
   "execution_count": 5,
   "metadata": {},
   "outputs": [
    {
     "data": {
      "text/plain": [
       "array([[72. , 33.6],\n",
       "       [66. , 26.6],\n",
       "       [64. , 23.3],\n",
       "       ...,\n",
       "       [72. , 26.2],\n",
       "       [60. , 30.1],\n",
       "       [70. , 30.4]])"
      ]
     },
     "execution_count": 5,
     "metadata": {},
     "output_type": "execute_result"
    }
   ],
   "source": [
    "X"
   ]
  },
  {
   "cell_type": "code",
   "execution_count": 6,
   "metadata": {},
   "outputs": [
    {
     "name": "stdout",
     "output_type": "stream",
     "text": [
      "[148849.05102917907, 78322.31387053363, 57242.17272903259, 46402.19053306981, 39082.57125187196, 33317.5476260845, 28188.24701720544, 24795.960661310746, 22551.697779560236, 20635.982935825603]\n"
     ]
    }
   ],
   "source": [
    "from sklearn.cluster import KMeans\n",
    "wcss = []\n",
    "for i in range(1, 11): \n",
    "    kmeans = KMeans(n_clusters = i, init = 'k-means++', random_state = 42)\n",
    "    kmeans.fit(X) \n",
    "    wcss.append(kmeans.inertia_)\n",
    "print(wcss) "
   ]
  },
  {
   "cell_type": "code",
   "execution_count": 7,
   "metadata": {},
   "outputs": [
    {
     "data": {
      "image/png": "[encoded data removed]",
      "text/plain": [
       "<Figure size 432x288 with 1 Axes>"
      ]
     },
     "metadata": {
      "needs_background": "light"
     },
     "output_type": "display_data"
    }
   ],
   "source": [
    "plt.plot(range(1, 11), wcss)\n",
    "plt.xlabel('Number of clusters')\n",
    "plt.ylabel('Inertia') \n",
    "plt.show()"
   ]
  },
  {
   "cell_type": "code",
   "execution_count": 8,
   "metadata": {},
   "outputs": [],
   "source": [
    "\n",
    "kmeans = KMeans(n_clusters = 5, init = \"k-means++\", random_state = 23)\n",
    "y_kmeans = kmeans.fit_predict(X)"
   ]
  },
  {
   "cell_type": "code",
   "execution_count": 9,
   "metadata": {},
   "outputs": [
    {
     "data": {
      "text/plain": [
       "array([1, 2, 2, 2, 3, 2, 3, 1, 2, 0, 0, 1, 4, 3, 2, 2, 0, 2, 3, 1, 0, 4,\n",
       "       0, 4, 0, 2, 1, 2, 4, 0, 1, 4, 3, 4, 4, 3, 1, 4, 1, 1, 2, 4, 4, 0,\n",
       "       2, 1, 3, 2, 1, 2, 4, 3, 2, 4, 2, 3, 1, 0, 4, 1, 2, 2, 2, 3, 2, 2,\n",
       "       4, 0, 2, 4, 2, 2, 0, 4, 2, 3, 4, 1, 1, 2, 3, 2, 4, 2, 0, 2, 1, 1,\n",
       "       1, 2, 3, 4, 1, 2, 4, 1, 3, 3, 3, 0, 1, 3, 4, 2, 1, 3, 0, 3, 3, 4,\n",
       "       1, 3, 4, 3, 3, 4, 1, 3, 3, 2, 1, 2, 1, 4, 1, 3, 1, 3, 4, 4, 2, 3,\n",
       "       2, 1, 2, 3, 2, 3, 4, 1, 2, 4, 3, 2, 3, 2, 4, 2, 4, 2, 1, 2, 4, 4,\n",
       "       1, 0, 3, 3, 2, 1, 4, 1, 1, 2, 4, 2, 2, 2, 2, 4, 4, 1, 2, 1, 2, 2,\n",
       "       4, 0, 1, 4, 4, 2, 2, 3, 2, 1, 2, 0, 2, 4, 2, 2, 2, 1, 3, 4, 3, 2,\n",
       "       2, 3, 4, 4, 2, 2, 1, 2, 1, 0, 2, 4, 3, 0, 0, 1, 4, 1, 3, 2, 2, 1,\n",
       "       3, 4, 2, 3, 2, 4, 1, 3, 1, 1, 0, 1, 4, 1, 2, 1, 4, 0, 4, 2, 2, 2,\n",
       "       3, 3, 1, 4, 2, 0, 1, 4, 3, 4, 4, 1, 2, 2, 3, 2, 3, 1, 2, 2, 2, 4,\n",
       "       3, 1, 1, 1, 3, 2, 0, 2, 4, 4, 1, 1, 3, 2, 2, 2, 1, 1, 4, 4, 4, 2,\n",
       "       4, 0, 3, 1, 4, 3, 1, 3, 3, 3, 2, 4, 1, 2, 2, 3, 4, 0, 2, 1, 2, 2,\n",
       "       2, 2, 2, 1, 2, 3, 4, 2, 4, 2, 1, 4, 3, 2, 2, 4, 1, 2, 2, 1, 0, 2,\n",
       "       2, 3, 1, 4, 3, 1, 2, 4, 4, 4, 2, 2, 2, 4, 1, 0, 3, 2, 2, 1, 1, 4,\n",
       "       4, 2, 1, 4, 3, 1, 1, 1, 2, 2, 0, 1, 1, 3, 2, 2, 4, 0, 4, 2, 1, 3,\n",
       "       3, 4, 4, 3, 1, 0, 2, 2, 3, 2, 2, 3, 2, 0, 4, 2, 2, 1, 2, 2, 4, 3,\n",
       "       3, 2, 2, 1, 2, 3, 4, 4, 2, 3, 2, 2, 2, 1, 0, 1, 4, 2, 3, 4, 2, 4,\n",
       "       2, 2, 0, 2, 1, 2, 1, 1, 2, 2, 0, 4, 2, 2, 2, 2, 2, 1, 4, 2, 2, 4,\n",
       "       0, 2, 2, 2, 3, 1, 2, 4, 2, 2, 2, 2, 1, 2, 3, 3, 3, 2, 4, 2, 2, 2,\n",
       "       1, 4, 4, 3, 3, 1, 2, 1, 4, 2, 1, 4, 2, 4, 4, 2, 2, 4, 1, 4, 3, 4,\n",
       "       1, 1, 1, 1, 2, 4, 1, 4, 2, 2, 2, 2, 2, 2, 2, 2, 4, 1, 1, 2, 1, 4,\n",
       "       0, 3, 3, 4, 2, 2, 2, 2, 3, 2, 4, 4, 3, 4, 2, 4, 2, 1, 3, 3, 2, 2,\n",
       "       2, 2, 3, 1, 1, 2, 3, 2, 4, 3, 4, 0, 1, 2, 4, 0, 4, 4, 1, 2, 4, 0,\n",
       "       2, 2, 4, 3, 1, 2, 1, 2, 1, 2, 1, 1, 1, 3, 4, 3, 1, 3, 2, 2, 2, 4,\n",
       "       3, 3, 4, 3, 3, 1, 2, 1, 0, 3, 4, 1, 2, 3, 2, 2, 4, 2, 0, 1, 4, 3,\n",
       "       1, 4, 1, 3, 1, 3, 4, 2, 2, 4, 2, 3, 1, 2, 4, 2, 3, 3, 0, 4, 1, 2,\n",
       "       0, 2, 4, 2, 4, 2, 0, 1, 2, 4, 2, 4, 4, 2, 2, 4, 3, 4, 2, 2, 2, 4,\n",
       "       1, 2, 4, 1, 4, 2, 2, 1, 2, 3, 4, 3, 3, 3, 1, 3, 1, 3, 3, 1, 0, 4,\n",
       "       4, 1, 0, 4, 3, 4, 4, 2, 3, 4, 2, 3, 0, 0, 4, 2, 4, 3, 3, 3, 3, 1,\n",
       "       1, 4, 4, 1, 2, 3, 2, 1, 4, 0, 1, 1, 3, 4, 2, 2, 4, 1, 1, 4, 4, 1,\n",
       "       2, 1, 2, 3, 4, 1, 2, 4, 1, 3, 2, 3, 4, 2, 3, 1, 4, 1, 2, 4, 0, 1,\n",
       "       1, 4, 4, 3, 4, 4, 0, 3, 2, 3, 4, 2, 3, 1, 1, 3, 3, 0, 0, 4, 0, 1,\n",
       "       1, 2, 2, 1, 2, 0, 4, 4, 4, 1, 1, 0, 3, 1, 2, 4, 1, 2, 3, 2])"
      ]
     },
     "execution_count": 9,
     "metadata": {},
     "output_type": "execute_result"
    }
   ],
   "source": [
    "y_kmeans"
   ]
  },
  {
   "cell_type": "code",
   "execution_count": 10,
   "metadata": {},
   "outputs": [
    {
     "name": "stdout",
     "output_type": "stream",
     "text": [
      "[[72.  33.6]\n",
      " [66.  26.6]\n",
      " [64.  23.3]\n",
      " ...\n",
      " [72.  26.2]\n",
      " [60.  30.1]\n",
      " [70.  30.4]]\n"
     ]
    }
   ],
   "source": [
    "print(X)\n"
   ]
  },
  {
   "cell_type": "code",
   "execution_count": 11,
   "metadata": {},
   "outputs": [
    {
     "name": "stdout",
     "output_type": "stream",
     "text": [
      "[ 96.  92.  84.  88.  90.  94.  92. 110.  88.  92.  90. 108.  90. 122.\n",
      "  88. 110.  98. 104.  85.  95.  86.  90.  90.  86.  86.  98.  86.  88.\n",
      " 108. 102. 100. 100.  90.  88.  94. 104.  90.  92.  90. 110.  90.  84.\n",
      "  88.  96.  94. 106. 106. 106. 100. 114.  94.  88.  94.  88.  94.  88.\n",
      "  92.]\n",
      "[31.99257812 37.6        45.8        39.3        39.8        36.6\n",
      " 34.1        45.4        46.8        42.7        43.4        48.8\n",
      " 49.7        22.4        50.         67.1        32.         37.7\n",
      " 42.8        34.2        44.         44.1        52.3        45.6\n",
      " 45.6        52.9        45.5        38.5        39.2        32.8\n",
      " 43.4        43.3        35.7        45.3        40.6        34.3\n",
      " 36.5        36.4        39.5        28.5        42.1        46.8\n",
      " 38.2        28.7        40.8        39.         37.6        35.5\n",
      " 57.3        42.3        32.8        44.5        32.7        40.6\n",
      " 49.3        43.3        35.5       ]\n"
     ]
    }
   ],
   "source": [
    "print(X[y_kmeans == 0, 0])\n",
    "print(X[y_kmeans == 0, 1])"
   ]
  },
  {
   "cell_type": "code",
   "execution_count": 12,
   "metadata": {},
   "outputs": [
    {
     "data": {
      "image/png": "[encoded data removed]",
      "text/plain": [
       "<Figure size 432x288 with 1 Axes>"
      ]
     },
     "metadata": {
      "needs_background": "light"
     },
     "output_type": "display_data"
    }
   ],
   "source": [
    "plt.scatter(X[y_kmeans == 0, 0], X[y_kmeans == 0, 1], s = 60, c = 'red', label = 'Cluster1')\n",
    "plt.scatter(X[y_kmeans == 1, 0], X[y_kmeans == 1, 1], s = 60, c = 'blue', label = 'Cluster2')\n",
    "plt.scatter(X[y_kmeans == 2, 0], X[y_kmeans == 2, 1], s = 60, c = 'green', label = 'Cluster3')\n",
    "plt.scatter(X[y_kmeans == 3, 0], X[y_kmeans == 3, 1], s = 60, c = 'violet', label = 'Cluster4')\n",
    "plt.scatter(X[y_kmeans == 4, 0], X[y_kmeans == 4, 1], s = 60, c = 'yellow', label = 'Cluster5') \n",
    "plt.scatter(kmeans.cluster_centers_[:, 0], kmeans.cluster_centers_[:, 1], s = 100, c = 'black', label = 'Centroids')\n",
    "plt.xlabel('Blood Pressure')\n",
    "plt.ylabel('BMI')\n",
    "plt.legend() \n",
    "\n",
    "plt.show()"
   ]
  }
 ],
 "metadata": {
  "kernelspec": {
   "display_name": "Python 3",
   "language": "python",
   "name": "python3"
  },
  "language_info": {
   "codemirror_mode": {
    "name": "ipython",
    "version": 3
   },
   "file_extension": ".py",
   "mimetype": "text/x-python",
   "name": "python",
   "nbconvert_exporter": "python",
   "pygments_lexer": "ipython3",
   "version": "3.9.2"
  }
 },
 "nbformat": 4,
 "nbformat_minor": 4
}
